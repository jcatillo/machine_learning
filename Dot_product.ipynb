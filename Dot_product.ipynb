{
  "nbformat": 4,
  "nbformat_minor": 0,
  "metadata": {
    "colab": {
      "provenance": [],
      "authorship_tag": "ABX9TyPIoJttVC/Ff9B9G2s45WQe"
    },
    "kernelspec": {
      "name": "python3",
      "display_name": "Python 3"
    },
    "language_info": {
      "name": "python"
    }
  },
  "cells": [
    {
      "cell_type": "markdown",
      "source": [
        "Using numpy"
      ],
      "metadata": {
        "id": "2hZp5mAHewT-"
      }
    },
    {
      "cell_type": "code",
      "execution_count": 4,
      "metadata": {
        "id": "KyU1UmBPdMno"
      },
      "outputs": [],
      "source": [
        "import numpy as np\n",
        "import torch"
      ]
    },
    {
      "cell_type": "code",
      "source": [
        "nv1 = np.array([ [1,2,3,4] ])\n",
        "nv2 = np.array([ [0,1,0,-1] ])\n",
        "\n",
        "print(np.dot(nv1,nv2.T))\n",
        "\n",
        "print(np.sum(nv1 * nv2))"
      ],
      "metadata": {
        "colab": {
          "base_uri": "https://localhost:8080/"
        },
        "id": "WR57zmtGdT5e",
        "outputId": "eb8ef2e0-cd6c-47ab-9483-fdbf3aa01192"
      },
      "execution_count": 17,
      "outputs": [
        {
          "output_type": "stream",
          "name": "stdout",
          "text": [
            "[[-2]]\n",
            "-2\n"
          ]
        }
      ]
    },
    {
      "cell_type": "markdown",
      "source": [
        "Using pytorch"
      ],
      "metadata": {
        "id": "L_CaUXN3eua9"
      }
    },
    {
      "cell_type": "code",
      "source": [
        "tv1 = torch.tensor([ [1,2,3,4] ])\n",
        "tv2 = torch.tensor([ [0,1,0,-1] ])\n",
        "\n",
        "print(torch.matmul(tv1,tv2.T))\n",
        "\n",
        "print(torch.sum(tv1 * tv2))"
      ],
      "metadata": {
        "colab": {
          "base_uri": "https://localhost:8080/"
        },
        "id": "HetcrV7jetap",
        "outputId": "d10fc981-d1b2-4538-94fe-48f4f2a5c980"
      },
      "execution_count": 16,
      "outputs": [
        {
          "output_type": "stream",
          "name": "stdout",
          "text": [
            "tensor([[-2]])\n",
            "tensor(-2)\n"
          ]
        }
      ]
    }
  ]
}