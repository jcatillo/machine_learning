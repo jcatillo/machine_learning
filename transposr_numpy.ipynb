{
  "nbformat": 4,
  "nbformat_minor": 0,
  "metadata": {
    "colab": {
      "provenance": [],
      "authorship_tag": "ABX9TyO/yB4qztjR45pDtPhJr88M",
      "include_colab_link": true
    },
    "kernelspec": {
      "name": "python3",
      "display_name": "Python 3"
    },
    "language_info": {
      "name": "python"
    }
  },
  "cells": [
    {
      "cell_type": "markdown",
      "metadata": {
        "id": "view-in-github",
        "colab_type": "text"
      },
      "source": [
        "<a href=\"https://colab.research.google.com/github/jcatillo/machine_learning/blob/main/transposr_numpy.ipynb\" target=\"_parent\"><img src=\"https://colab.research.google.com/assets/colab-badge.svg\" alt=\"Open In Colab\"/></a>"
      ]
    },
    {
      "cell_type": "code",
      "execution_count": 11,
      "metadata": {
        "colab": {
          "base_uri": "https://localhost:8080/"
        },
        "id": "Dj6FBaKYYYJP",
        "outputId": "44bc6550-d86d-4233-93ef-3c3cd1f10f3b"
      },
      "outputs": [
        {
          "output_type": "stream",
          "name": "stdout",
          "text": [
            "[[1 2 3 4]]\n",
            "\n",
            "[[1]\n",
            " [2]\n",
            " [3]\n",
            " [4]]\n",
            "\n",
            "[[1 2 3 4]]\n"
          ]
        }
      ],
      "source": [
        "import numpy as np\n",
        "\n",
        "nv = np.array([ [1,2,3,4] ])\n",
        "print(nv)\n",
        "print()\n",
        "\n",
        "print(nv.T)\n",
        "print()\n",
        "\n",
        "nvT = nv.T\n",
        "print(nvT.T)"
      ]
    },
    {
      "cell_type": "code",
      "source": [
        "nM = np.array([ [1,2,3,4],\n",
        "                [5,6,7,8] ])\n",
        "print(nM)\n",
        "print()\n",
        "\n",
        "print(nM.T)\n",
        "print()\n",
        "\n",
        "nMT = nM.T\n",
        "print(nMT.T)\n"
      ],
      "metadata": {
        "colab": {
          "base_uri": "https://localhost:8080/"
        },
        "id": "ryTp1tkeZtUw",
        "outputId": "4e44ffb5-f2a9-4f63-cfd5-1e7bea9d876c"
      },
      "execution_count": 12,
      "outputs": [
        {
          "output_type": "stream",
          "name": "stdout",
          "text": [
            "[[1 2 3 4]\n",
            " [5 6 7 8]]\n",
            "\n",
            "[[1 5]\n",
            " [2 6]\n",
            " [3 7]\n",
            " [4 8]]\n",
            "\n",
            "[[1 2 3 4]\n",
            " [5 6 7 8]]\n"
          ]
        }
      ]
    },
    {
      "cell_type": "code",
      "source": [
        "#Using pyTorch\n",
        "import torch\n",
        "\n",
        "tv = torch.tensor([[1,2,3,4]])\n",
        "print(tv)\n",
        "print()\n",
        "\n",
        "print(tv.T)\n",
        "print()\n",
        "\n",
        "tvT = tv.T\n",
        "print(tvT.T)\n"
      ],
      "metadata": {
        "colab": {
          "base_uri": "https://localhost:8080/"
        },
        "id": "EirUhbkBZ-Lk",
        "outputId": "b9842019-2e81-405f-9f4f-2ba9083d05d1"
      },
      "execution_count": 16,
      "outputs": [
        {
          "output_type": "stream",
          "name": "stdout",
          "text": [
            "tensor([[1, 2, 3, 4]])\n",
            "\n",
            "tensor([[1],\n",
            "        [2],\n",
            "        [3],\n",
            "        [4]])\n",
            "\n",
            "tensor([[1, 2, 3, 4]])\n"
          ]
        }
      ]
    },
    {
      "cell_type": "code",
      "source": [
        "tM = torch.tensor([ [1,2,3,4],\n",
        "                    [5,6,7,8] ])\n",
        "\n",
        "print(tM)\n",
        "print()\n",
        "\n",
        "print(tM.T)\n",
        "print()\n",
        "\n",
        "tMT = tM.T\n",
        "print(tMT.T)"
      ],
      "metadata": {
        "colab": {
          "base_uri": "https://localhost:8080/"
        },
        "id": "50mwA9EeaYAB",
        "outputId": "2985b6ae-f193-4f21-dc62-f0eb74960a84"
      },
      "execution_count": 17,
      "outputs": [
        {
          "output_type": "stream",
          "name": "stdout",
          "text": [
            "tensor([[1, 2, 3, 4],\n",
            "        [5, 6, 7, 8]])\n",
            "\n",
            "tensor([[1, 5],\n",
            "        [2, 6],\n",
            "        [3, 7],\n",
            "        [4, 8]])\n",
            "\n",
            "tensor([[1, 2, 3, 4],\n",
            "        [5, 6, 7, 8]])\n"
          ]
        }
      ]
    },
    {
      "cell_type": "code",
      "source": [
        "print(f'Variable nv is of type {type(nv)}')\n",
        "print(f'Variable nM is of type {type(nM)}')\n",
        "print(f'Variable tv is of type {type(tv)}')\n",
        "print(f'Variable tM is of type {type(tM)}')"
      ],
      "metadata": {
        "colab": {
          "base_uri": "https://localhost:8080/"
        },
        "id": "ZA-l8vL-alFo",
        "outputId": "ff92bf3c-c5b0-408a-b024-fba25762c4f4"
      },
      "execution_count": 18,
      "outputs": [
        {
          "output_type": "stream",
          "name": "stdout",
          "text": [
            "Variable nv is of type <class 'numpy.ndarray'>\n",
            "Variable nM is of type <class 'numpy.ndarray'>\n",
            "Variable tv is of type <class 'torch.Tensor'>\n",
            "Variable tM is of type <class 'torch.Tensor'>\n"
          ]
        }
      ]
    }
  ]
}