{
  "nbformat": 4,
  "nbformat_minor": 0,
  "metadata": {
    "colab": {
      "provenance": [],
      "authorship_tag": "ABX9TyN3X5s8srvMWP13qSXRp7sl",
      "include_colab_link": true
    },
    "kernelspec": {
      "name": "python3",
      "display_name": "Python 3"
    },
    "language_info": {
      "name": "python"
    }
  },
  "cells": [
    {
      "cell_type": "markdown",
      "metadata": {
        "id": "view-in-github",
        "colab_type": "text"
      },
      "source": [
        "<a href=\"https://colab.research.google.com/github/jcatillo/machine_learning/blob/main/matrix_multiplication.ipynb\" target=\"_parent\"><img src=\"https://colab.research.google.com/assets/colab-badge.svg\" alt=\"Open In Colab\"/></a>"
      ]
    },
    {
      "cell_type": "markdown",
      "source": [
        "Using numpy"
      ],
      "metadata": {
        "id": "2hZp5mAHewT-"
      }
    },
    {
      "cell_type": "code",
      "execution_count": 4,
      "metadata": {
        "id": "KyU1UmBPdMno"
      },
      "outputs": [],
      "source": [
        "import numpy as np\n",
        "import torch"
      ]
    },
    {
      "cell_type": "code",
      "source": [
        "A = np.random.randn(3,4)\n",
        "B = np.random.randn(4,5)\n",
        "C = np.random.randn(3,7)\n",
        "\n",
        "# np.matmul(A,B) == A@B\n",
        "print(np.round(A@B , 2))\n",
        "print()\n",
        "print(np.round(C.T@A , 2))"
      ],
      "metadata": {
        "colab": {
          "base_uri": "https://localhost:8080/"
        },
        "id": "WR57zmtGdT5e",
        "outputId": "4b3b0bd5-2942-4865-a811-30e08a9abf70"
      },
      "execution_count": 21,
      "outputs": [
        {
          "output_type": "stream",
          "name": "stdout",
          "text": [
            "[[-0.25 -6.71 -1.64  0.75 -0.88]\n",
            " [-1.42 -1.62 -2.45  1.8   0.06]\n",
            " [ 1.9   9.27  5.24 -4.16 -0.38]]\n",
            "\n",
            "[[ 0.92 -0.82 -1.27 -1.66]\n",
            " [-4.32  1.93  3.39  8.84]\n",
            " [ 0.29  0.64  0.06  1.87]\n",
            " [ 1.87 -0.82 -1.51 -3.56]\n",
            " [-0.43  1.14  1.26  1.72]\n",
            " [ 1.95 -0.37 -1.27 -2.67]\n",
            " [-1.27  1.12  1.55  3.02]]\n"
          ]
        }
      ]
    },
    {
      "cell_type": "markdown",
      "source": [
        "Using pytorch"
      ],
      "metadata": {
        "id": "L_CaUXN3eua9"
      }
    },
    {
      "cell_type": "code",
      "source": [
        "A = torch.randn(3,4)\n",
        "B = torch.randn(4,5)\n",
        "C1 = np.random.randn(4,7)\n",
        "C2 = torch.tensor( C1, dtype=torch.float )\n",
        "\n",
        "# np.matmul(A,B) == A@B\n",
        "print(np.round(A@B , 2))\n",
        "print()\n",
        "print(np.round(A@C1 , 2))\n",
        "print(np.round(A@C2 , 2))"
      ],
      "metadata": {
        "colab": {
          "base_uri": "https://localhost:8080/"
        },
        "id": "HetcrV7jetap",
        "outputId": "6cdb93d2-7062-4682-cb50-026d8db36fcc"
      },
      "execution_count": 29,
      "outputs": [
        {
          "output_type": "stream",
          "name": "stdout",
          "text": [
            "tensor([[-0.7300,  1.7700, -0.5100, -2.4700, -4.4200],\n",
            "        [ 0.7100, -1.0400,  0.3800,  2.0000,  3.2400],\n",
            "        [-3.8500,  3.2700, -1.0700,  3.1500,  1.8200]])\n",
            "\n",
            "tensor([[-3.7200,  0.0200,  3.2000,  0.6000,  1.4900,  3.3400, -1.4000],\n",
            "        [ 2.7100, -0.0900, -2.6600, -0.4500, -0.9900, -2.5500,  0.8100],\n",
            "        [ 3.2700, -2.0900, -4.1000, -2.0600,  1.1100, -0.8600, -1.7600]],\n",
            "       dtype=torch.float64)\n",
            "tensor([[-3.7200,  0.0200,  3.2000,  0.6000,  1.4900,  3.3400, -1.4000],\n",
            "        [ 2.7100, -0.0900, -2.6600, -0.4500, -0.9900, -2.5500,  0.8100],\n",
            "        [ 3.2700, -2.0900, -4.1000, -2.0600,  1.1100, -0.8600, -1.7600]])\n"
          ]
        },
        {
          "output_type": "stream",
          "name": "stderr",
          "text": [
            "/tmp/ipython-input-2109409815.py:9: DeprecationWarning: __array_wrap__ must accept context and return_scalar arguments (positionally) in the future. (Deprecated NumPy 2.0)\n",
            "  print(np.round(A@C1 , 2))\n"
          ]
        }
      ]
    }
  ]
}